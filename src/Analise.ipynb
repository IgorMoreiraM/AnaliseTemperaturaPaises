{
 "cells": [
  {
   "cell_type": "code",
   "execution_count": 1,
   "id": "d04e2805",
   "metadata": {},
   "outputs": [
    {
     "ename": "ModuleNotFoundError",
     "evalue": "No module named 'tensorflow'",
     "output_type": "error",
     "traceback": [
      "\u001b[31m---------------------------------------------------------------------------\u001b[39m",
      "\u001b[31mModuleNotFoundError\u001b[39m                       Traceback (most recent call last)",
      "\u001b[36mCell\u001b[39m\u001b[36m \u001b[39m\u001b[32mIn[1]\u001b[39m\u001b[32m, line 5\u001b[39m\n\u001b[32m      3\u001b[39m \u001b[38;5;28;01mimport\u001b[39;00m\u001b[38;5;250m \u001b[39m\u001b[34;01mmatplotlib\u001b[39;00m\u001b[38;5;250m \u001b[39m\u001b[38;5;28;01mas\u001b[39;00m\u001b[38;5;250m \u001b[39m\u001b[34;01mplt\u001b[39;00m\n\u001b[32m      4\u001b[39m \u001b[38;5;28;01mfrom\u001b[39;00m\u001b[38;5;250m \u001b[39m\u001b[34;01msklearn\u001b[39;00m\u001b[34;01m.\u001b[39;00m\u001b[34;01mpreprocessing\u001b[39;00m\u001b[38;5;250m \u001b[39m\u001b[38;5;28;01mimport\u001b[39;00m MinMaxScaler\n\u001b[32m----> \u001b[39m\u001b[32m5\u001b[39m \u001b[38;5;28;01mfrom\u001b[39;00m\u001b[38;5;250m \u001b[39m\u001b[34;01mtensorflow\u001b[39;00m\u001b[34;01m.\u001b[39;00m\u001b[34;01mkeras\u001b[39;00m\u001b[34;01m.\u001b[39;00m\u001b[34;01mmoldels\u001b[39;00m\u001b[38;5;250m \u001b[39m\u001b[38;5;28;01mimport\u001b[39;00m Sequential\n\u001b[32m      6\u001b[39m \u001b[38;5;28;01mfrom\u001b[39;00m\u001b[38;5;250m \u001b[39m\u001b[34;01mtensorflow\u001b[39;00m\u001b[34;01m.\u001b[39;00m\u001b[34;01mkeras\u001b[39;00m\u001b[34;01m.\u001b[39;00m\u001b[34;01mlayers\u001b[39;00m\u001b[38;5;250m \u001b[39m\u001b[38;5;28;01mimport\u001b[39;00m LSTM, Dense\n\u001b[32m      7\u001b[39m \u001b[38;5;28;01mfrom\u001b[39;00m\u001b[38;5;250m \u001b[39m\u001b[34;01mskelear\u001b[39;00m\u001b[34;01m.\u001b[39;00m\u001b[34;01mmetrics\u001b[39;00m\u001b[38;5;250m \u001b[39m\u001b[38;5;28;01mimport\u001b[39;00m mean_squared_error, mean_absolute_error\n",
      "\u001b[31mModuleNotFoundError\u001b[39m: No module named 'tensorflow'"
     ]
    }
   ],
   "source": [
    "import pandas as pd\n",
    "import numpy as np\n",
    "import matplotlib as plt\n",
    "from sklearn.preprocessing import MinMaxScaler\n",
    "from tensorflow.keras.moldels import Sequential\n",
    "from tensorflow.keras.layers import LSTM, Dense\n",
    "from skelear.metrics import mean_squared_error, mean_absolute_error\n"
   ]
  },
  {
   "cell_type": "code",
   "execution_count": null,
   "id": "b9d3f945",
   "metadata": {},
   "outputs": [],
   "source": [
    "df = pd read_csv(\"\")\n",
    "\n",
    "df['ano_mes'] = pd.to_datetime(df['ano_mes'])\n",
    "\n",
    "temperatura = dados['Average surface temperature monthly'].value.reshape(-1,1)\n",
    "\n",
    "scaler = MinMaxScaler()\n",
    "temperatura_normalizad = scaler.fit_transform(temperatura)\n"
   ]
  },
  {
   "cell_type": "code",
   "execution_count": null,
   "id": "dc4a2721",
   "metadata": {},
   "outputs": [],
   "source": [
    "def criar_sequencia (data, janela = 12):\n",
    "    x, y = [], []\n",
    "    for i in range(janela, len(data)):\n",
    "        x.append(data[i-janela:i])\n",
    "        y.append(data[i])\n",
    "    return np.array(x), np.array(y)\n",
    "\n",
    "janela = 12\n",
    "\n",
    "x, y = criar_sequencia(temperatura_normalizad, janela)\n"
   ]
  },
  {
   "cell_type": "code",
   "execution_count": null,
   "id": "c95ed54a",
   "metadata": {},
   "outputs": [],
   "source": [
    "divisao = int(len(x) * 0,8)\n",
    "\n",
    "x_train, x_test = x[:divisao], x[divisao:]\n",
    "y_train, y_test = y[:divisao], y[divisao:]"
   ]
  },
  {
   "cell_type": "code",
   "execution_count": null,
   "id": "5701b827",
   "metadata": {},
   "outputs": [],
   "source": [
    "modelo = Sequential()\n",
    "modelo.add(64, activation = 'relu', input_shap = (janela, 1))\n",
    "modelo.add(Dense(1))\n",
    "modelo.compile(optmizer = 'adam', loss = 'mse')\n",
    "\n",
    "history = modelo.fit(x_train, y_train, epochs = 2, batch_size = 64, validation_data = (x_test, y_test))\n",
    "\n",
    "y_pred = modelo.predict(x_test)\n",
    "\n",
    "y_pred_real = scaler.inverse_transform(y_pred)\n",
    "y_test_real = scaler.inverse_transform(y_test)\n",
    "\n",
    "dados_teste = df['ano_mes'].values[-len(y_test_real):]"
   ]
  },
  {
   "cell_type": "code",
   "execution_count": null,
   "id": "ab39f255",
   "metadata": {},
   "outputs": [],
   "source": [
    "plt.figure(figsize=(14,6))\n",
    "\n",
    "plt.plot(dados_teste, y_test_real, label='Real')\n",
    "plt.plot(dados_teste, y_pred_real, label='Predita')"
   ]
  }
 ],
 "metadata": {
  "kernelspec": {
   "display_name": "Python 3",
   "language": "python",
   "name": "python3"
  },
  "language_info": {
   "codemirror_mode": {
    "name": "ipython",
    "version": 3
   },
   "file_extension": ".py",
   "mimetype": "text/x-python",
   "name": "python",
   "nbconvert_exporter": "python",
   "pygments_lexer": "ipython3",
   "version": "3.12.5"
  }
 },
 "nbformat": 4,
 "nbformat_minor": 5
}
